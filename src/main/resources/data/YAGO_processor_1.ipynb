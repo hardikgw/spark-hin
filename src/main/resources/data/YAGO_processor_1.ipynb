{
 "cells": [
  {
   "cell_type": "code",
   "execution_count": 1,
   "metadata": {
    "collapsed": true
   },
   "outputs": [],
   "source": [
    "import org.apache.spark.graphx._\n",
    "def readRdf(sc:org.apache.spark.SparkContext, filename:String) = {\n",
    "  val r = sc.textFile(filename).map(_.split(\"\\t\"))\n",
    "  val v = r.map(_(1)).union(r.map(_(3))).distinct.zipWithIndex\n",
    "  Graph(v.map(_.swap),\n",
    "        r.map(x => (x(1),(x(2),x(3))))\n",
    "         .join(v)\n",
    "         .map(x => (x._2._1._2,(x._2._2,x._2._1._1)))\n",
    "         .join(v)\n",
    "         .map(x => new Edge(x._2._1._1, x._2._2, x._2._1._2)))\n",
    "}"
   ]
  },
  {
   "cell_type": "code",
   "execution_count": null,
   "metadata": {
    "collapsed": true
   },
   "outputs": [],
   "source": [
    "val gf = readRdf(sc, \"/data/yagoFacts.tsv\").subgraph(_.attr == \"<exports>\")\n",
    "val e = gf.edges.map(e => Edge(e.srcId, e.dstId, 1.0))\n",
    "val (gs,mean) = lib.SVDPlusPlus.run(e,\n",
    "      new lib.SVDPlusPlus.Conf(2,10,0,5,0.007,0.007,0.005,0.015))\n"
   ]
  },
  {
   "cell_type": "code",
   "execution_count": null,
   "metadata": {
    "collapsed": true
   },
   "outputs": [],
   "source": []
  }
 ],
 "metadata": {
  "kernelspec": {
   "display_name": "Apache Toree - Scala",
   "language": "scala",
   "name": "apache_toree_scala"
  },
  "language_info": {
   "file_extension": ".scala",
   "name": "scala",
   "version": "2.11.8"
  }
 },
 "nbformat": 4,
 "nbformat_minor": 2
}

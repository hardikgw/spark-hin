{
 "cells": [
  {
   "cell_type": "code",
   "execution_count": null,
   "metadata": {
    "collapsed": true
   },
   "outputs": [],
   "source": [
    "from gensim.models import Word2Vec \n",
    "model = Word2Vec.load_word2vec_format( \n",
    "    'GoogleNews-vectors-negative300.bin',  \n",
    "    binary=True) \n",
    "f = open('animal_terms.txt') \n",
    "animals = f.read().splitlines() \n",
    "animals = [x.lower() for x in animals if x.lower() in model.vocab.keys()] \n",
    "f.close() \n",
    "f = open('animal_distances.txt','w') \n",
    "f.truncate() \n",
    "for i in range(0, len(animals)): \n",
    "  for j in range(i, len(animals)): \n",
    "    f.write('%s,%s,%1.6f\\n' %  \n",
    "        (animals[i], animals[j],  \n",
    "        1 - model.similarity(animals[i], animals[j]))) \n",
    "f.flush() \n",
    "f.close() \n"
   ]
  },
  {
   "cell_type": "code",
   "execution_count": null,
   "metadata": {
    "collapsed": true
   },
   "outputs": [],
   "source": []
  }
 ],
 "metadata": {
  "kernelspec": {
   "display_name": "Python 3",
   "language": "python",
   "name": "python3"
  }
 },
 "nbformat": 4,
 "nbformat_minor": 2
}
